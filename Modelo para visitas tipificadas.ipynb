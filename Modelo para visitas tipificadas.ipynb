{
 "cells": [
  {
   "cell_type": "code",
   "execution_count": 1,
   "metadata": {
    "collapsed": true
   },
   "outputs": [],
   "source": [
    "#Importing libraries\n",
    "import pandas as pd\n",
    "import numpy as np"
   ]
  },
  {
   "cell_type": "code",
   "execution_count": 2,
   "metadata": {
    "collapsed": true
   },
   "outputs": [],
   "source": [
    "#Data Loading\n",
    "df = pd.read_csv(\"visitas_tipificadas.csv\")"
   ]
  },
  {
   "cell_type": "code",
   "execution_count": 3,
   "metadata": {
    "collapsed": true
   },
   "outputs": [
    {
     "data": {
      "text/html": [
       "<div>\n",
       "<style scoped>\n",
       "    .dataframe tbody tr th:only-of-type {\n",
       "        vertical-align: middle;\n",
       "    }\n",
       "\n",
       "    .dataframe tbody tr th {\n",
       "        vertical-align: top;\n",
       "    }\n",
       "\n",
       "    .dataframe thead th {\n",
       "        text-align: right;\n",
       "    }\n",
       "</style>\n",
       "<table border=\"1\" class=\"dataframe\">\n",
       "  <thead>\n",
       "    <tr style=\"text-align: right;\">\n",
       "      <th></th>\n",
       "      <th>id_camp</th>\n",
       "      <th>TripType</th>\n",
       "      <th>id_ticket</th>\n",
       "      <th>Weekday</th>\n",
       "      <th>Upc</th>\n",
       "      <th>ScanCount</th>\n",
       "      <th>DepartmentDescription</th>\n",
       "      <th>FinelineNumber</th>\n",
       "    </tr>\n",
       "  </thead>\n",
       "  <tbody>\n",
       "    <tr>\n",
       "      <th>0</th>\n",
       "      <td>324078</td>\n",
       "      <td>3</td>\n",
       "      <td>106</td>\n",
       "      <td>Friday</td>\n",
       "      <td>6.811316e+10</td>\n",
       "      <td>1</td>\n",
       "      <td>FINANCIAL SERVICES</td>\n",
       "      <td>275.0</td>\n",
       "    </tr>\n",
       "    <tr>\n",
       "      <th>1</th>\n",
       "      <td>324079</td>\n",
       "      <td>3</td>\n",
       "      <td>106</td>\n",
       "      <td>Friday</td>\n",
       "      <td>6.053890e+10</td>\n",
       "      <td>1</td>\n",
       "      <td>FINANCIAL SERVICES</td>\n",
       "      <td>276.0</td>\n",
       "    </tr>\n",
       "    <tr>\n",
       "      <th>2</th>\n",
       "      <td>324080</td>\n",
       "      <td>3</td>\n",
       "      <td>121</td>\n",
       "      <td>Friday</td>\n",
       "      <td>6.811316e+10</td>\n",
       "      <td>1</td>\n",
       "      <td>FINANCIAL SERVICES</td>\n",
       "      <td>278.0</td>\n",
       "    </tr>\n",
       "    <tr>\n",
       "      <th>3</th>\n",
       "      <td>324081</td>\n",
       "      <td>3</td>\n",
       "      <td>121</td>\n",
       "      <td>Friday</td>\n",
       "      <td>6.811316e+10</td>\n",
       "      <td>1</td>\n",
       "      <td>FINANCIAL SERVICES</td>\n",
       "      <td>277.0</td>\n",
       "    </tr>\n",
       "    <tr>\n",
       "      <th>4</th>\n",
       "      <td>324082</td>\n",
       "      <td>3</td>\n",
       "      <td>153</td>\n",
       "      <td>Friday</td>\n",
       "      <td>6.811311e+10</td>\n",
       "      <td>1</td>\n",
       "      <td>FINANCIAL SERVICES</td>\n",
       "      <td>200.0</td>\n",
       "    </tr>\n",
       "  </tbody>\n",
       "</table>\n",
       "</div>"
      ],
      "text/plain": [
       "   id_camp  TripType  id_ticket Weekday           Upc  ScanCount  \\\n",
       "0   324078         3        106  Friday  6.811316e+10          1   \n",
       "1   324079         3        106  Friday  6.053890e+10          1   \n",
       "2   324080         3        121  Friday  6.811316e+10          1   \n",
       "3   324081         3        121  Friday  6.811316e+10          1   \n",
       "4   324082         3        153  Friday  6.811311e+10          1   \n",
       "\n",
       "  DepartmentDescription  FinelineNumber  \n",
       "0    FINANCIAL SERVICES           275.0  \n",
       "1    FINANCIAL SERVICES           276.0  \n",
       "2    FINANCIAL SERVICES           278.0  \n",
       "3    FINANCIAL SERVICES           277.0  \n",
       "4    FINANCIAL SERVICES           200.0  "
      ]
     },
     "execution_count": 3,
     "metadata": {},
     "output_type": "execute_result"
    }
   ],
   "source": [
    "df.head()"
   ]
  },
  {
   "cell_type": "code",
   "execution_count": 4,
   "metadata": {
    "collapsed": true
   },
   "outputs": [
    {
     "data": {
      "text/html": [
       "<div>\n",
       "<style scoped>\n",
       "    .dataframe tbody tr th:only-of-type {\n",
       "        vertical-align: middle;\n",
       "    }\n",
       "\n",
       "    .dataframe tbody tr th {\n",
       "        vertical-align: top;\n",
       "    }\n",
       "\n",
       "    .dataframe thead th {\n",
       "        text-align: right;\n",
       "    }\n",
       "</style>\n",
       "<table border=\"1\" class=\"dataframe\">\n",
       "  <thead>\n",
       "    <tr style=\"text-align: right;\">\n",
       "      <th></th>\n",
       "      <th>id_camp</th>\n",
       "      <th>id_ticket</th>\n",
       "      <th>Weekday</th>\n",
       "      <th>Upc</th>\n",
       "      <th>ScanCount</th>\n",
       "      <th>DepartmentDescription</th>\n",
       "      <th>FinelineNumber</th>\n",
       "      <th>TripType</th>\n",
       "    </tr>\n",
       "  </thead>\n",
       "  <tbody>\n",
       "    <tr>\n",
       "      <th>0</th>\n",
       "      <td>324078</td>\n",
       "      <td>106</td>\n",
       "      <td>Friday</td>\n",
       "      <td>6.811316e+10</td>\n",
       "      <td>1</td>\n",
       "      <td>FINANCIAL SERVICES</td>\n",
       "      <td>275.0</td>\n",
       "      <td>3</td>\n",
       "    </tr>\n",
       "    <tr>\n",
       "      <th>1</th>\n",
       "      <td>324079</td>\n",
       "      <td>106</td>\n",
       "      <td>Friday</td>\n",
       "      <td>6.053890e+10</td>\n",
       "      <td>1</td>\n",
       "      <td>FINANCIAL SERVICES</td>\n",
       "      <td>276.0</td>\n",
       "      <td>3</td>\n",
       "    </tr>\n",
       "    <tr>\n",
       "      <th>2</th>\n",
       "      <td>324080</td>\n",
       "      <td>121</td>\n",
       "      <td>Friday</td>\n",
       "      <td>6.811316e+10</td>\n",
       "      <td>1</td>\n",
       "      <td>FINANCIAL SERVICES</td>\n",
       "      <td>278.0</td>\n",
       "      <td>3</td>\n",
       "    </tr>\n",
       "    <tr>\n",
       "      <th>3</th>\n",
       "      <td>324081</td>\n",
       "      <td>121</td>\n",
       "      <td>Friday</td>\n",
       "      <td>6.811316e+10</td>\n",
       "      <td>1</td>\n",
       "      <td>FINANCIAL SERVICES</td>\n",
       "      <td>277.0</td>\n",
       "      <td>3</td>\n",
       "    </tr>\n",
       "    <tr>\n",
       "      <th>4</th>\n",
       "      <td>324082</td>\n",
       "      <td>153</td>\n",
       "      <td>Friday</td>\n",
       "      <td>6.811311e+10</td>\n",
       "      <td>1</td>\n",
       "      <td>FINANCIAL SERVICES</td>\n",
       "      <td>200.0</td>\n",
       "      <td>3</td>\n",
       "    </tr>\n",
       "  </tbody>\n",
       "</table>\n",
       "</div>"
      ],
      "text/plain": [
       "   id_camp  id_ticket Weekday           Upc  ScanCount DepartmentDescription  \\\n",
       "0   324078        106  Friday  6.811316e+10          1    FINANCIAL SERVICES   \n",
       "1   324079        106  Friday  6.053890e+10          1    FINANCIAL SERVICES   \n",
       "2   324080        121  Friday  6.811316e+10          1    FINANCIAL SERVICES   \n",
       "3   324081        121  Friday  6.811316e+10          1    FINANCIAL SERVICES   \n",
       "4   324082        153  Friday  6.811311e+10          1    FINANCIAL SERVICES   \n",
       "\n",
       "   FinelineNumber  TripType  \n",
       "0           275.0         3  \n",
       "1           276.0         3  \n",
       "2           278.0         3  \n",
       "3           277.0         3  \n",
       "4           200.0         3  "
      ]
     },
     "execution_count": 4,
     "metadata": {},
     "output_type": "execute_result"
    }
   ],
   "source": [
    "df = df[['id_camp','id_ticket','Weekday','Upc','ScanCount','DepartmentDescription','FinelineNumber','TripType']]\n",
    "df.head()"
   ]
  },
  {
   "cell_type": "code",
   "execution_count": 5,
   "metadata": {
    "collapsed": true
   },
   "outputs": [
    {
     "name": "stdout",
     "output_type": "stream",
     "text": [
      "Shape: (646654, 8)\n"
     ]
    },
    {
     "data": {
      "text/plain": [
       "(646654, 8)"
      ]
     },
     "execution_count": 5,
     "metadata": {},
     "output_type": "execute_result"
    }
   ],
   "source": [
    "#Dimensions\n",
    "print('Shape:', df.shape)\n",
    "df.shape"
   ]
  },
  {
   "cell_type": "code",
   "execution_count": 6,
   "metadata": {
    "collapsed": true
   },
   "outputs": [
    {
     "name": "stdout",
     "output_type": "stream",
     "text": [
      "Null Values\n"
     ]
    },
    {
     "data": {
      "text/plain": [
       "id_camp                     0\n",
       "id_ticket                   0\n",
       "Weekday                     0\n",
       "Upc                      4129\n",
       "ScanCount                   0\n",
       "DepartmentDescription    1361\n",
       "FinelineNumber           4129\n",
       "TripType                    0\n",
       "dtype: int64"
      ]
     },
     "execution_count": 6,
     "metadata": {},
     "output_type": "execute_result"
    }
   ],
   "source": [
    "#Null Values\n",
    "print('Null Values')\n",
    "df.isnull().sum()"
   ]
  },
  {
   "cell_type": "code",
   "execution_count": 7,
   "metadata": {
    "collapsed": true
   },
   "outputs": [
    {
     "name": "stdout",
     "output_type": "stream",
     "text": [
      "Variable Types\n"
     ]
    },
    {
     "data": {
      "text/plain": [
       "id_camp                    int64\n",
       "id_ticket                  int64\n",
       "Weekday                   object\n",
       "Upc                      float64\n",
       "ScanCount                  int64\n",
       "DepartmentDescription     object\n",
       "FinelineNumber           float64\n",
       "TripType                   int64\n",
       "dtype: object"
      ]
     },
     "execution_count": 7,
     "metadata": {},
     "output_type": "execute_result"
    }
   ],
   "source": [
    "#Variable types\n",
    "print('Variable Types')\n",
    "df.dtypes"
   ]
  },
  {
   "cell_type": "code",
   "execution_count": 8,
   "metadata": {
    "collapsed": true
   },
   "outputs": [
    {
     "name": "stdout",
     "output_type": "stream",
     "text": [
      "                       missing_num  missing_perc\n",
      "Upc                         4129.0      0.638518\n",
      "FinelineNumber              4129.0      0.638518\n",
      "DepartmentDescription       1361.0      0.210468\n"
     ]
    }
   ],
   "source": [
    "missing = df.isna().sum()\n",
    "missing = missing[missing>0]\n",
    "missing_perc = missing/df.shape[0]*100\n",
    "na = pd.DataFrame([missing, missing_perc], index = ['missing_num', 'missing_perc']).T\n",
    "na = na.sort_values(by = 'missing_perc', ascending = False)\n",
    "print(na)"
   ]
  },
  {
   "cell_type": "code",
   "execution_count": 9,
   "metadata": {
    "collapsed": true
   },
   "outputs": [],
   "source": [
    "# Debido a que los N/A representan un porcentaje mínimo de la columna, pueden eliminarse.\n",
    "df.dropna(inplace=True)"
   ]
  },
  {
   "cell_type": "code",
   "execution_count": 10,
   "metadata": {
    "collapsed": true
   },
   "outputs": [
    {
     "data": {
      "text/plain": [
       "array([  3,   4,   5,   6,   7,   8,   9,  12,  14,  15,  18,  19,  20,\n",
       "        21,  22,  23,  24,  25,  26,  27,  28,  29,  30,  31,  32,  33,\n",
       "        34,  35,  36,  37,  38,  39,  40,  41,  42,  43,  44, 999])"
      ]
     },
     "execution_count": 10,
     "metadata": {},
     "output_type": "execute_result"
    }
   ],
   "source": [
    "df.TripType.unique()"
   ]
  },
  {
   "cell_type": "code",
   "execution_count": 11,
   "metadata": {
    "collapsed": true
   },
   "outputs": [
    {
     "data": {
      "text/plain": [
       "40     173857\n",
       "39      95324\n",
       "37      38864\n",
       "38      29505\n",
       "25      27482\n",
       "7       23158\n",
       "8       22751\n",
       "36      21922\n",
       "44      20351\n",
       "42      19410\n",
       "24      17952\n",
       "999     17226\n",
       "9       16730\n",
       "32      13802\n",
       "35      12486\n",
       "5       11240\n",
       "33       9897\n",
       "15       7118\n",
       "3        6815\n",
       "43       6340\n",
       "41       5486\n",
       "30       4840\n",
       "34       4733\n",
       "27       4599\n",
       "21       4023\n",
       "22       3578\n",
       "6        3398\n",
       "20       3107\n",
       "18       2968\n",
       "28       2658\n",
       "26       2502\n",
       "12       2103\n",
       "29       2098\n",
       "31       1760\n",
       "19       1187\n",
       "4         895\n",
       "23        325\n",
       "14         35\n",
       "Name: TripType, dtype: int64"
      ]
     },
     "execution_count": 11,
     "metadata": {},
     "output_type": "execute_result"
    }
   ],
   "source": [
    "df.TripType.value_counts()"
   ]
  },
  {
   "cell_type": "code",
   "execution_count": 12,
   "metadata": {
    "collapsed": true
   },
   "outputs": [
    {
     "data": {
      "text/plain": [
       "0           3\n",
       "1           3\n",
       "2           3\n",
       "3           3\n",
       "4           3\n",
       "         ... \n",
       "646649    999\n",
       "646650    999\n",
       "646651    999\n",
       "646652    999\n",
       "646653    999\n",
       "Name: TripType, Length: 642525, dtype: object"
      ]
     },
     "execution_count": 12,
     "metadata": {},
     "output_type": "execute_result"
    }
   ],
   "source": [
    "df.TripType.astype('O')"
   ]
  },
  {
   "cell_type": "code",
   "execution_count": 13,
   "metadata": {
    "collapsed": true
   },
   "outputs": [],
   "source": [
    "from sklearn import preprocessing\n",
    "le = preprocessing.LabelEncoder()\n",
    "le.fit(df.Weekday.unique())\n",
    "df.Weekday=le.transform(df.Weekday)"
   ]
  },
  {
   "cell_type": "code",
   "execution_count": 14,
   "metadata": {
    "collapsed": true
   },
   "outputs": [
    {
     "data": {
      "text/plain": [
       "array([0, 2, 3, 1, 5, 6, 4])"
      ]
     },
     "execution_count": 14,
     "metadata": {},
     "output_type": "execute_result"
    }
   ],
   "source": [
    "df.Weekday.unique()"
   ]
  },
  {
   "cell_type": "code",
   "execution_count": 15,
   "metadata": {
    "collapsed": true
   },
   "outputs": [],
   "source": [
    "le2 = preprocessing.LabelEncoder()\n",
    "le2.fit(df.DepartmentDescription.unique())\n",
    "df.DepartmentDescription = le2.transform(df.DepartmentDescription)"
   ]
  },
  {
   "cell_type": "code",
   "execution_count": 16,
   "metadata": {
    "collapsed": true
   },
   "outputs": [
    {
     "data": {
      "text/plain": [
       "array([20, 32, 38, 30,  3, 50, 67, 17, 21, 15,  2,  4, 11, 57, 40, 43, 24,\n",
       "       64, 12, 31, 25, 60, 18, 52, 46, 63,  7, 13, 62,  5, 51, 39,  8, 23,\n",
       "       35, 33, 16, 28, 45, 19, 41, 27, 14, 10,  6, 34, 42,  0, 55, 66, 49,\n",
       "       37,  1, 54, 44, 22, 65, 29, 56, 53, 47, 36,  9, 58, 61, 59, 48, 26])"
      ]
     },
     "execution_count": 16,
     "metadata": {},
     "output_type": "execute_result"
    }
   ],
   "source": [
    "df.DepartmentDescription.unique()"
   ]
  },
  {
   "cell_type": "code",
   "execution_count": 17,
   "metadata": {
    "collapsed": true
   },
   "outputs": [],
   "source": [
    "from sklearn.model_selection import train_test_split\n",
    "from sklearn import linear_model\n",
    "from sklearn.metrics import accuracy_score\n",
    "from sklearn.metrics import confusion_matrix\n",
    "\n",
    "xval = df.values[:,0:-1]\n",
    "yval = df.values[:,-1]\n",
    "x = np.asanyarray(xval)\n",
    "y = np.asanyarray(yval)\n",
    "\n",
    "X_train, X_test, y_train, y_test = train_test_split(x, y, test_size=0.33, random_state=0)"
   ]
  },
  {
   "cell_type": "code",
   "execution_count": 18,
   "metadata": {
    "collapsed": true
   },
   "outputs": [
    {
     "name": "stdout",
     "output_type": "stream",
     "text": [
      "99.99151079543847\n"
     ]
    }
   ],
   "source": [
    "from sklearn import tree\n",
    "dt = tree.DecisionTreeClassifier(random_state=0)\n",
    "dt.fit(X_train, y_train)\n",
    "dt_pred= dt.predict(X_test)\n",
    "print(accuracy_score(y_test,dt_pred)*100)\n"
   ]
  },
  {
   "cell_type": "code",
   "execution_count": 20,
   "metadata": {
    "collapsed": true
   },
   "outputs": [
    {
     "name": "stdout",
     "output_type": "stream",
     "text": [
      "43.45057868077761\n"
     ]
    }
   ],
   "source": [
    "from sklearn.ensemble import RandomForestClassifier\n",
    "clf = RandomForestClassifier(max_depth=2, random_state=0)\n",
    "clf.fit(X_train, y_train)\n",
    "clf_pred=clf.predict(X_test)\n",
    "print(accuracy_score(y_test,clf_pred)*100) "
   ]
  },
  {
   "cell_type": "code",
   "execution_count": 26,
   "metadata": {
    "collapsed": true
   },
   "outputs": [
    {
     "name": "stdout",
     "output_type": "stream",
     "text": [
      "              precision    recall  f1-score   support\n",
      "\n",
      "         3.0       1.00      1.00      1.00      2242\n",
      "         4.0       1.00      0.99      1.00       269\n",
      "         5.0       1.00      1.00      1.00      3733\n",
      "         6.0       1.00      1.00      1.00      1117\n",
      "         7.0       1.00      1.00      1.00      7695\n",
      "         8.0       1.00      1.00      1.00      7374\n",
      "         9.0       1.00      1.00      1.00      5529\n",
      "        12.0       1.00      1.00      1.00       687\n",
      "        14.0       1.00      1.00      1.00        10\n",
      "        15.0       1.00      1.00      1.00      2334\n",
      "        18.0       1.00      1.00      1.00      1021\n",
      "        19.0       1.00      1.00      1.00       368\n",
      "        20.0       1.00      1.00      1.00      1038\n",
      "        21.0       1.00      1.00      1.00      1316\n",
      "        22.0       1.00      1.00      1.00      1223\n",
      "        23.0       0.99      1.00      1.00       112\n",
      "        24.0       1.00      1.00      1.00      5968\n",
      "        25.0       1.00      1.00      1.00      8999\n",
      "        26.0       1.00      1.00      1.00       868\n",
      "        27.0       1.00      1.00      1.00      1500\n",
      "        28.0       1.00      1.00      1.00       896\n",
      "        29.0       1.00      1.00      1.00       708\n",
      "        30.0       1.00      1.00      1.00      1589\n",
      "        31.0       1.00      1.00      1.00       613\n",
      "        32.0       1.00      1.00      1.00      4617\n",
      "        33.0       1.00      1.00      1.00      3200\n",
      "        34.0       1.00      1.00      1.00      1521\n",
      "        35.0       1.00      1.00      1.00      4069\n",
      "        36.0       1.00      1.00      1.00      7287\n",
      "        37.0       1.00      1.00      1.00     12754\n",
      "        38.0       1.00      1.00      1.00      9711\n",
      "        39.0       1.00      1.00      1.00     31512\n",
      "        40.0       1.00      1.00      1.00     57497\n",
      "        41.0       1.00      1.00      1.00      1867\n",
      "        42.0       1.00      1.00      1.00      6422\n",
      "        43.0       1.00      1.00      1.00      2140\n",
      "        44.0       1.00      1.00      1.00      6567\n",
      "       999.0       1.00      1.00      1.00      5661\n",
      "\n",
      "    accuracy                           1.00    212034\n",
      "   macro avg       1.00      1.00      1.00    212034\n",
      "weighted avg       1.00      1.00      1.00    212034\n",
      "\n"
     ]
    }
   ],
   "source": [
    "#F1, RECALL Y PRECISION (Las cuales son más usadas para medir el desempeño cuando la base de datos está desbalanceada)\n",
    "from sklearn.metrics import classification_report\n",
    "print(classification_report(y_test, dt_pred))"
   ]
  },
  {
   "cell_type": "code",
   "execution_count": 27,
   "metadata": {
    "collapsed": true
   },
   "outputs": [
    {
     "name": "stderr",
     "output_type": "stream",
     "text": [
      "/Users/oscaraguilar/anaconda3/lib/python3.7/site-packages/sklearn/metrics/_classification.py:1221: UndefinedMetricWarning: Precision and F-score are ill-defined and being set to 0.0 in labels with no predicted samples. Use `zero_division` parameter to control this behavior.\n",
      "  _warn_prf(average, modifier, msg_start, len(result))\n"
     ]
    },
    {
     "name": "stdout",
     "output_type": "stream",
     "text": [
      "              precision    recall  f1-score   support\n",
      "\n",
      "         3.0       0.00      0.00      0.00      2242\n",
      "         4.0       0.00      0.00      0.00       269\n",
      "         5.0       0.00      0.00      0.00      3733\n",
      "         6.0       0.00      0.00      0.00      1117\n",
      "         7.0       0.00      0.00      0.00      7695\n",
      "         8.0       0.00      0.00      0.00      7374\n",
      "         9.0       0.00      0.00      0.00      5529\n",
      "        12.0       0.00      0.00      0.00       687\n",
      "        14.0       0.00      0.00      0.00        10\n",
      "        15.0       0.00      0.00      0.00      2334\n",
      "        18.0       0.00      0.00      0.00      1021\n",
      "        19.0       0.00      0.00      0.00       368\n",
      "        20.0       0.00      0.00      0.00      1038\n",
      "        21.0       0.00      0.00      0.00      1316\n",
      "        22.0       0.00      0.00      0.00      1223\n",
      "        23.0       0.00      0.00      0.00       112\n",
      "        24.0       0.00      0.00      0.00      5968\n",
      "        25.0       0.00      0.00      0.00      8999\n",
      "        26.0       0.00      0.00      0.00       868\n",
      "        27.0       0.00      0.00      0.00      1500\n",
      "        28.0       0.00      0.00      0.00       896\n",
      "        29.0       0.00      0.00      0.00       708\n",
      "        30.0       0.00      0.00      0.00      1589\n",
      "        31.0       0.00      0.00      0.00       613\n",
      "        32.0       0.00      0.00      0.00      4617\n",
      "        33.0       0.00      0.00      0.00      3200\n",
      "        34.0       0.00      0.00      0.00      1521\n",
      "        35.0       0.00      0.00      0.00      4069\n",
      "        36.0       0.00      0.00      0.00      7287\n",
      "        37.0       0.00      0.00      0.00     12754\n",
      "        38.0       0.00      0.00      0.00      9711\n",
      "        39.0       0.28      1.00      0.43     31512\n",
      "        40.0       0.61      1.00      0.76     57497\n",
      "        41.0       0.00      0.00      0.00      1867\n",
      "        42.0       0.00      0.00      0.00      6422\n",
      "        43.0       0.00      0.00      0.00      2140\n",
      "        44.0       0.00      0.00      0.00      6567\n",
      "       999.0       0.72      0.56      0.63      5661\n",
      "\n",
      "    accuracy                           0.43    212034\n",
      "   macro avg       0.04      0.07      0.05    212034\n",
      "weighted avg       0.23      0.43      0.29    212034\n",
      "\n"
     ]
    }
   ],
   "source": [
    "print(classification_report(y_test, clf_pred))"
   ]
  },
  {
   "cell_type": "markdown",
   "metadata": {},
   "source": [
    "La razón por la cual los modelos tienen un desempeño tan diferente es porque\n",
    "1. Hay un número considerable de clases\n",
    "2. Hay clases con mucho mayor proporción de instancias que otras i.e. la clase \"40\" con 173857 casos y la clase 14 con 35 (class imbalance/ desbalance en clases)\n",
    "3. Al ver 99.99% de exactitud, sospeché que el árbol de decisión estaba prediciendo únicamente la clase más común en la base de datos, por lo que el resultado del modelo de ensamble (Random forest) es más real.\n",
    "\n",
    "El siguiente paso es trabajar el desbalance de clase con upsampling o downsampling"
   ]
  },
  {
   "cell_type": "code",
   "execution_count": null,
   "metadata": {
    "collapsed": true
   },
   "outputs": [],
   "source": [
    "from sklearn.utils import resample\n",
    "df_imbalanced=df[df.TripType != '14', '23', '4', '40', '39', '37']\n",
    "\n",
    "df_14 = df[df.TripType == '14']\n",
    "df_14_upsampled = resample(df_14, \n",
    "                           replace=True,     # sample with replacement\n",
    "                           n_samples=5000,    # to match majority class\n",
    "                           random_state=0) # reproducible results\n",
    "df_23 = df[df.TripType == '23']\n",
    "df_23_upsampled = resample(df_23, \n",
    "                           replace=True,     # sample with replacement\n",
    "                           n_samples=5000,    # to match majority class\n",
    "                           random_state=0) # reproducible results\n",
    "df_4 = df[df.TripType == '4']\n",
    "df_4_upsampled = resample(df_4, \n",
    "                           replace=True,     # sample with replacement\n",
    "                           n_samples=5000,    # to match majority class\n",
    "                           random_state=0) # reproducible results\n",
    "\n",
    "df_40 = df[df.TripType == '40']\n",
    "df_40_downsampled = resample(df_40, \n",
    "                             replace=False,    # sample without replacement\n",
    "                             n_samples=30000,     # to match minority class\n",
    "                             random_state=0) # reproducible results\n",
    "\n",
    "df_39 = df[df.TripType == '39']\n",
    "df_39_downsampled = resample(df_39, \n",
    "                             replace=False,    # sample without replacement\n",
    "                             n_samples=30000,     # to match minority class\n",
    "                             random_state=0) # reproducible results\n",
    "\n",
    "df_37 = df[df.TripType == '37']\n",
    "df_37_downsampled = resample(df_37, \n",
    "                             replace=False,    # sample without replacement\n",
    "                             n_samples=30000,     # to match minority class\n",
    "                             random_state=0) # reproducible results\n",
    " \n",
    "\n",
    "# Combine majority class with upsampled minority class\n",
    "df_upsampled = pd.concat([df, df_14_upsampled, df_23_upsampled, df_4_upsampled])\n",
    "df_final = pd.concat([df_imbalanced, df_upsampled, df_40_downsampled, df_39_downsampled, df_37_downsampled])\n",
    " \n",
    "# Display new class counts\n",
    "df_final.TripType.value_counts()"
   ]
  },
  {
   "cell_type": "markdown",
   "metadata": {},
   "source": [
    "# No alcancé a lidiar con el desbalance de clases, pero esto hubiera seguido. Reentrenar."
   ]
  },
  {
   "cell_type": "code",
   "execution_count": 34,
   "metadata": {
    "collapsed": true
   },
   "outputs": [],
   "source": [
    "xval2 = df_final.values[:,0:-1]\n",
    "yval2 = df_final.values[:,-1]\n",
    "x2 = np.asanyarray(xval2)\n",
    "y2 = np.asanyarray(yval2)\n",
    "X_train2, X_test2, y_train2, y_test2 = train_test_split(x2, y2, test_size=0.33, random_state=0)"
   ]
  },
  {
   "cell_type": "code",
   "execution_count": null,
   "metadata": {},
   "outputs": [],
   "source": [
    "clf2 = RandomForestClassifier(max_depth=2, random_state=0)\n",
    "clf2.fit(X_train2, y_train2)\n",
    "clf_pred2=clf2.predict(X_test2)\n",
    "print(accuracy_score(y_test2,clf_pred2)*100) "
   ]
  },
  {
   "cell_type": "markdown",
   "metadata": {},
   "source": [
    "# Llenaré el excel con el modelo de random forest"
   ]
  },
  {
   "cell_type": "code",
   "execution_count": 44,
   "metadata": {},
   "outputs": [
    {
     "ename": "ValueError",
     "evalue": "Expected 2D array, got 1D array instead:\narray=[nan nan nan nan nan nan nan nan nan nan nan nan nan nan nan nan nan nan\n nan nan nan nan nan nan nan nan nan nan nan nan nan nan nan nan nan nan\n nan nan nan nan nan nan nan nan nan nan nan nan nan nan nan nan nan nan\n nan nan nan nan nan nan nan nan nan nan nan nan nan nan nan nan nan nan\n nan nan nan nan nan nan nan nan nan nan nan nan nan nan nan nan nan nan\n nan nan nan nan nan nan nan nan nan nan nan nan nan nan nan nan nan nan\n nan nan nan nan nan nan nan nan nan nan nan nan nan nan nan nan nan nan\n nan nan nan nan nan nan nan nan nan nan nan nan nan nan nan nan nan nan\n nan nan nan nan nan nan nan nan nan nan nan nan nan nan nan nan nan nan\n nan nan nan nan nan nan nan nan nan nan nan nan nan nan nan nan nan nan\n nan nan nan nan nan nan nan nan nan nan nan nan nan nan nan nan nan nan\n nan nan nan nan nan nan nan nan nan nan nan nan nan nan nan nan nan nan\n nan nan nan nan nan nan nan nan nan nan nan nan nan nan nan nan nan nan\n nan nan nan nan nan nan nan nan nan nan nan nan nan nan nan nan nan nan\n nan nan nan nan nan nan nan nan nan nan nan nan nan nan nan nan nan nan\n nan nan nan nan nan nan nan nan nan nan nan nan nan nan nan nan nan nan\n nan nan nan nan nan nan nan nan nan nan nan nan nan nan nan nan nan nan\n nan nan nan nan nan nan nan nan nan nan nan nan nan nan nan nan nan nan\n nan nan nan nan nan nan nan nan nan nan nan nan nan nan nan nan nan nan\n nan nan nan nan nan nan nan nan nan nan nan nan nan nan nan nan nan nan\n nan nan nan nan nan nan nan nan nan nan nan nan nan nan nan nan nan nan\n nan nan nan nan nan nan nan nan nan nan nan nan nan nan nan nan nan nan\n nan nan nan nan].\nReshape your data either using array.reshape(-1, 1) if your data has a single feature or array.reshape(1, -1) if it contains a single sample.",
     "output_type": "error",
     "traceback": [
      "\u001b[0;31m---------------------------------------------------------------------------\u001b[0m",
      "\u001b[0;31mValueError\u001b[0m                                Traceback (most recent call last)",
      "\u001b[0;32m<ipython-input-44-fc9f98be3b77>\u001b[0m in \u001b[0;36m<module>\u001b[0;34m\u001b[0m\n\u001b[1;32m      6\u001b[0m \u001b[0mxnew\u001b[0m\u001b[0;34m=\u001b[0m\u001b[0mnp\u001b[0m\u001b[0;34m.\u001b[0m\u001b[0marray\u001b[0m\u001b[0;34m(\u001b[0m\u001b[0mxnew\u001b[0m\u001b[0;34m,\u001b[0m \u001b[0mdtype\u001b[0m\u001b[0;34m=\u001b[0m\u001b[0mfloat\u001b[0m\u001b[0;34m)\u001b[0m\u001b[0;34m\u001b[0m\u001b[0;34m\u001b[0m\u001b[0m\n\u001b[1;32m      7\u001b[0m \u001b[0;31m#Run the SVM (Most accurate classifier)\u001b[0m\u001b[0;34m\u001b[0m\u001b[0;34m\u001b[0m\u001b[0;34m\u001b[0m\u001b[0m\n\u001b[0;32m----> 8\u001b[0;31m \u001b[0mresults\u001b[0m\u001b[0;34m=\u001b[0m\u001b[0mclf\u001b[0m\u001b[0;34m.\u001b[0m\u001b[0mpredict\u001b[0m\u001b[0;34m(\u001b[0m\u001b[0mxnew\u001b[0m\u001b[0;34m)\u001b[0m\u001b[0;34m\u001b[0m\u001b[0;34m\u001b[0m\u001b[0m\n\u001b[0m\u001b[1;32m      9\u001b[0m \u001b[0;31m#Export results to a .csv file\u001b[0m\u001b[0;34m\u001b[0m\u001b[0;34m\u001b[0m\u001b[0;34m\u001b[0m\u001b[0m\n\u001b[1;32m     10\u001b[0m \u001b[0mdf\u001b[0m\u001b[0;34m=\u001b[0m\u001b[0mpd\u001b[0m\u001b[0;34m.\u001b[0m\u001b[0mDataFrame\u001b[0m\u001b[0;34m(\u001b[0m\u001b[0mresults\u001b[0m\u001b[0;34m)\u001b[0m\u001b[0;34m\u001b[0m\u001b[0;34m\u001b[0m\u001b[0m\n",
      "\u001b[0;32m~/anaconda3/lib/python3.7/site-packages/sklearn/ensemble/_forest.py\u001b[0m in \u001b[0;36mpredict\u001b[0;34m(self, X)\u001b[0m\n\u001b[1;32m    627\u001b[0m             \u001b[0mThe\u001b[0m \u001b[0mpredicted\u001b[0m \u001b[0mclasses\u001b[0m\u001b[0;34m.\u001b[0m\u001b[0;34m\u001b[0m\u001b[0;34m\u001b[0m\u001b[0m\n\u001b[1;32m    628\u001b[0m         \"\"\"\n\u001b[0;32m--> 629\u001b[0;31m         \u001b[0mproba\u001b[0m \u001b[0;34m=\u001b[0m \u001b[0mself\u001b[0m\u001b[0;34m.\u001b[0m\u001b[0mpredict_proba\u001b[0m\u001b[0;34m(\u001b[0m\u001b[0mX\u001b[0m\u001b[0;34m)\u001b[0m\u001b[0;34m\u001b[0m\u001b[0;34m\u001b[0m\u001b[0m\n\u001b[0m\u001b[1;32m    630\u001b[0m \u001b[0;34m\u001b[0m\u001b[0m\n\u001b[1;32m    631\u001b[0m         \u001b[0;32mif\u001b[0m \u001b[0mself\u001b[0m\u001b[0;34m.\u001b[0m\u001b[0mn_outputs_\u001b[0m \u001b[0;34m==\u001b[0m \u001b[0;36m1\u001b[0m\u001b[0;34m:\u001b[0m\u001b[0;34m\u001b[0m\u001b[0;34m\u001b[0m\u001b[0m\n",
      "\u001b[0;32m~/anaconda3/lib/python3.7/site-packages/sklearn/ensemble/_forest.py\u001b[0m in \u001b[0;36mpredict_proba\u001b[0;34m(self, X)\u001b[0m\n\u001b[1;32m    671\u001b[0m         \u001b[0mcheck_is_fitted\u001b[0m\u001b[0;34m(\u001b[0m\u001b[0mself\u001b[0m\u001b[0;34m)\u001b[0m\u001b[0;34m\u001b[0m\u001b[0;34m\u001b[0m\u001b[0m\n\u001b[1;32m    672\u001b[0m         \u001b[0;31m# Check data\u001b[0m\u001b[0;34m\u001b[0m\u001b[0;34m\u001b[0m\u001b[0;34m\u001b[0m\u001b[0m\n\u001b[0;32m--> 673\u001b[0;31m         \u001b[0mX\u001b[0m \u001b[0;34m=\u001b[0m \u001b[0mself\u001b[0m\u001b[0;34m.\u001b[0m\u001b[0m_validate_X_predict\u001b[0m\u001b[0;34m(\u001b[0m\u001b[0mX\u001b[0m\u001b[0;34m)\u001b[0m\u001b[0;34m\u001b[0m\u001b[0;34m\u001b[0m\u001b[0m\n\u001b[0m\u001b[1;32m    674\u001b[0m \u001b[0;34m\u001b[0m\u001b[0m\n\u001b[1;32m    675\u001b[0m         \u001b[0;31m# Assign chunk of trees to jobs\u001b[0m\u001b[0;34m\u001b[0m\u001b[0;34m\u001b[0m\u001b[0;34m\u001b[0m\u001b[0m\n",
      "\u001b[0;32m~/anaconda3/lib/python3.7/site-packages/sklearn/ensemble/_forest.py\u001b[0m in \u001b[0;36m_validate_X_predict\u001b[0;34m(self, X)\u001b[0m\n\u001b[1;32m    419\u001b[0m         \u001b[0mcheck_is_fitted\u001b[0m\u001b[0;34m(\u001b[0m\u001b[0mself\u001b[0m\u001b[0;34m)\u001b[0m\u001b[0;34m\u001b[0m\u001b[0;34m\u001b[0m\u001b[0m\n\u001b[1;32m    420\u001b[0m \u001b[0;34m\u001b[0m\u001b[0m\n\u001b[0;32m--> 421\u001b[0;31m         \u001b[0;32mreturn\u001b[0m \u001b[0mself\u001b[0m\u001b[0;34m.\u001b[0m\u001b[0mestimators_\u001b[0m\u001b[0;34m[\u001b[0m\u001b[0;36m0\u001b[0m\u001b[0;34m]\u001b[0m\u001b[0;34m.\u001b[0m\u001b[0m_validate_X_predict\u001b[0m\u001b[0;34m(\u001b[0m\u001b[0mX\u001b[0m\u001b[0;34m,\u001b[0m \u001b[0mcheck_input\u001b[0m\u001b[0;34m=\u001b[0m\u001b[0;32mTrue\u001b[0m\u001b[0;34m)\u001b[0m\u001b[0;34m\u001b[0m\u001b[0;34m\u001b[0m\u001b[0m\n\u001b[0m\u001b[1;32m    422\u001b[0m \u001b[0;34m\u001b[0m\u001b[0m\n\u001b[1;32m    423\u001b[0m     \u001b[0;34m@\u001b[0m\u001b[0mproperty\u001b[0m\u001b[0;34m\u001b[0m\u001b[0;34m\u001b[0m\u001b[0m\n",
      "\u001b[0;32m~/anaconda3/lib/python3.7/site-packages/sklearn/tree/_classes.py\u001b[0m in \u001b[0;36m_validate_X_predict\u001b[0;34m(self, X, check_input)\u001b[0m\n\u001b[1;32m    386\u001b[0m         \u001b[0;34m\"\"\"Validate X whenever one tries to predict, apply, predict_proba\"\"\"\u001b[0m\u001b[0;34m\u001b[0m\u001b[0;34m\u001b[0m\u001b[0m\n\u001b[1;32m    387\u001b[0m         \u001b[0;32mif\u001b[0m \u001b[0mcheck_input\u001b[0m\u001b[0;34m:\u001b[0m\u001b[0;34m\u001b[0m\u001b[0;34m\u001b[0m\u001b[0m\n\u001b[0;32m--> 388\u001b[0;31m             \u001b[0mX\u001b[0m \u001b[0;34m=\u001b[0m \u001b[0mcheck_array\u001b[0m\u001b[0;34m(\u001b[0m\u001b[0mX\u001b[0m\u001b[0;34m,\u001b[0m \u001b[0mdtype\u001b[0m\u001b[0;34m=\u001b[0m\u001b[0mDTYPE\u001b[0m\u001b[0;34m,\u001b[0m \u001b[0maccept_sparse\u001b[0m\u001b[0;34m=\u001b[0m\u001b[0;34m\"csr\"\u001b[0m\u001b[0;34m)\u001b[0m\u001b[0;34m\u001b[0m\u001b[0;34m\u001b[0m\u001b[0m\n\u001b[0m\u001b[1;32m    389\u001b[0m             if issparse(X) and (X.indices.dtype != np.intc or\n\u001b[1;32m    390\u001b[0m                                 X.indptr.dtype != np.intc):\n",
      "\u001b[0;32m~/anaconda3/lib/python3.7/site-packages/sklearn/utils/validation.py\u001b[0m in \u001b[0;36minner_f\u001b[0;34m(*args, **kwargs)\u001b[0m\n\u001b[1;32m     71\u001b[0m                           FutureWarning)\n\u001b[1;32m     72\u001b[0m         \u001b[0mkwargs\u001b[0m\u001b[0;34m.\u001b[0m\u001b[0mupdate\u001b[0m\u001b[0;34m(\u001b[0m\u001b[0;34m{\u001b[0m\u001b[0mk\u001b[0m\u001b[0;34m:\u001b[0m \u001b[0marg\u001b[0m \u001b[0;32mfor\u001b[0m \u001b[0mk\u001b[0m\u001b[0;34m,\u001b[0m \u001b[0marg\u001b[0m \u001b[0;32min\u001b[0m \u001b[0mzip\u001b[0m\u001b[0;34m(\u001b[0m\u001b[0msig\u001b[0m\u001b[0;34m.\u001b[0m\u001b[0mparameters\u001b[0m\u001b[0;34m,\u001b[0m \u001b[0margs\u001b[0m\u001b[0;34m)\u001b[0m\u001b[0;34m}\u001b[0m\u001b[0;34m)\u001b[0m\u001b[0;34m\u001b[0m\u001b[0;34m\u001b[0m\u001b[0m\n\u001b[0;32m---> 73\u001b[0;31m         \u001b[0;32mreturn\u001b[0m \u001b[0mf\u001b[0m\u001b[0;34m(\u001b[0m\u001b[0;34m**\u001b[0m\u001b[0mkwargs\u001b[0m\u001b[0;34m)\u001b[0m\u001b[0;34m\u001b[0m\u001b[0;34m\u001b[0m\u001b[0m\n\u001b[0m\u001b[1;32m     74\u001b[0m     \u001b[0;32mreturn\u001b[0m \u001b[0minner_f\u001b[0m\u001b[0;34m\u001b[0m\u001b[0;34m\u001b[0m\u001b[0m\n\u001b[1;32m     75\u001b[0m \u001b[0;34m\u001b[0m\u001b[0m\n",
      "\u001b[0;32m~/anaconda3/lib/python3.7/site-packages/sklearn/utils/validation.py\u001b[0m in \u001b[0;36mcheck_array\u001b[0;34m(array, accept_sparse, accept_large_sparse, dtype, order, copy, force_all_finite, ensure_2d, allow_nd, ensure_min_samples, ensure_min_features, estimator)\u001b[0m\n\u001b[1;32m    622\u001b[0m                     \u001b[0;34m\"Reshape your data either using array.reshape(-1, 1) if \"\u001b[0m\u001b[0;34m\u001b[0m\u001b[0;34m\u001b[0m\u001b[0m\n\u001b[1;32m    623\u001b[0m                     \u001b[0;34m\"your data has a single feature or array.reshape(1, -1) \"\u001b[0m\u001b[0;34m\u001b[0m\u001b[0;34m\u001b[0m\u001b[0m\n\u001b[0;32m--> 624\u001b[0;31m                     \"if it contains a single sample.\".format(array))\n\u001b[0m\u001b[1;32m    625\u001b[0m \u001b[0;34m\u001b[0m\u001b[0m\n\u001b[1;32m    626\u001b[0m         \u001b[0;31m# in the future np.flexible dtypes will be handled like object dtypes\u001b[0m\u001b[0;34m\u001b[0m\u001b[0;34m\u001b[0m\u001b[0;34m\u001b[0m\u001b[0m\n",
      "\u001b[0;31mValueError\u001b[0m: Expected 2D array, got 1D array instead:\narray=[nan nan nan nan nan nan nan nan nan nan nan nan nan nan nan nan nan nan\n nan nan nan nan nan nan nan nan nan nan nan nan nan nan nan nan nan nan\n nan nan nan nan nan nan nan nan nan nan nan nan nan nan nan nan nan nan\n nan nan nan nan nan nan nan nan nan nan nan nan nan nan nan nan nan nan\n nan nan nan nan nan nan nan nan nan nan nan nan nan nan nan nan nan nan\n nan nan nan nan nan nan nan nan nan nan nan nan nan nan nan nan nan nan\n nan nan nan nan nan nan nan nan nan nan nan nan nan nan nan nan nan nan\n nan nan nan nan nan nan nan nan nan nan nan nan nan nan nan nan nan nan\n nan nan nan nan nan nan nan nan nan nan nan nan nan nan nan nan nan nan\n nan nan nan nan nan nan nan nan nan nan nan nan nan nan nan nan nan nan\n nan nan nan nan nan nan nan nan nan nan nan nan nan nan nan nan nan nan\n nan nan nan nan nan nan nan nan nan nan nan nan nan nan nan nan nan nan\n nan nan nan nan nan nan nan nan nan nan nan nan nan nan nan nan nan nan\n nan nan nan nan nan nan nan nan nan nan nan nan nan nan nan nan nan nan\n nan nan nan nan nan nan nan nan nan nan nan nan nan nan nan nan nan nan\n nan nan nan nan nan nan nan nan nan nan nan nan nan nan nan nan nan nan\n nan nan nan nan nan nan nan nan nan nan nan nan nan nan nan nan nan nan\n nan nan nan nan nan nan nan nan nan nan nan nan nan nan nan nan nan nan\n nan nan nan nan nan nan nan nan nan nan nan nan nan nan nan nan nan nan\n nan nan nan nan nan nan nan nan nan nan nan nan nan nan nan nan nan nan\n nan nan nan nan nan nan nan nan nan nan nan nan nan nan nan nan nan nan\n nan nan nan nan nan nan nan nan nan nan nan nan nan nan nan nan nan nan\n nan nan nan nan].\nReshape your data either using array.reshape(-1, 1) if your data has a single feature or array.reshape(1, -1) if it contains a single sample."
     ]
    }
   ],
   "source": [
    "#Read the data\n",
    "newtest = pd.read_csv(\"visitas_agosto.csv\", sep=',',header= None)\n",
    "#Fit the data\n",
    "newtest=newtest.iloc[1:]\n",
    "xnew=newtest.values[:,-1]\n",
    "xnew=np.array(xnew, dtype=float)\n",
    "#Run the SVM (Most accurate classifier)\n",
    "results=clf.predict(xnew)\n",
    "#Export results to a .csv file\n",
    "df=pd.DataFrame(results)\n",
    "df.to_csv(\"visitas_tipic_ago.csv\")"
   ]
  },
  {
   "cell_type": "code",
   "execution_count": null,
   "metadata": {},
   "outputs": [],
   "source": []
  }
 ],
 "metadata": {
  "kernelspec": {
   "display_name": "Python 3",
   "language": "python",
   "name": "python3"
  },
  "language_info": {
   "codemirror_mode": {
    "name": "ipython",
    "version": 3
   },
   "file_extension": ".py",
   "mimetype": "text/x-python",
   "name": "python",
   "nbconvert_exporter": "python",
   "pygments_lexer": "ipython3",
   "version": "3.7.1"
  }
 },
 "nbformat": 4,
 "nbformat_minor": 4
}
